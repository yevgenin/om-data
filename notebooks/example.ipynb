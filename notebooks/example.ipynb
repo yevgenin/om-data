{
 "cells": [
  {
   "cell_type": "code",
   "execution_count": 102,
   "metadata": {
    "collapsed": true
   },
   "outputs": [],
   "source": [
    "from pathlib import Path\n",
    "import pickle\n",
    "from om_data.exported import *\n",
    "from matplotlib import pyplot\n"
   ]
  },
  {
   "cell_type": "code",
   "execution_count": 104,
   "metadata": {
    "pycharm": {
     "name": "#%%\n"
    }
   },
   "outputs": [],
   "source": [
    "dataset_dir = '/home/ynogin/out/DatasetExported/ScanSets.Lambda_NEB_MTaqI_Polylysine.0/'"
   ]
  },
  {
   "cell_type": "code",
   "execution_count": 115,
   "outputs": [
    {
     "name": "stdout",
     "output_type": "stream",
     "text": [
      "organism:  Lambda_NEB https://international.neb.com/products/n3011-lambda-dna \n",
      "seq:  b'GGGCGGCGACCTCGCGGGTTTTCGCTATTTAT' ... \n",
      "patterns:  ('TCGA',) \n",
      "num labeled:  121 \n",
      "\n"
     ]
    }
   ],
   "source": [
    "genome_data: GenomeSeqLabeledExported = pickle.loads(Path(dataset_dir, 'genome.pickle').read_bytes())\n",
    "print(\n",
    "    'organism: ', genome_data.organism.name, genome_data.organism.description, '\\n'\n",
    "    'seq: ', genome_data.genome_seq_bytes[:32], '...', '\\n'\n",
    "    'patterns: ', genome_data.genome_seq_labeled.patterns, '\\n'\n",
    "    'num labeled: ', genome_data.labeled_mask.sum(), '\\n',\n",
    ")"
   ],
   "metadata": {
    "collapsed": false,
    "pycharm": {
     "name": "#%%\n"
    }
   }
  },
  {
   "cell_type": "code",
   "execution_count": 116,
   "outputs": [
    {
     "name": "stdout",
     "output_type": "stream",
     "text": [
      "75\n",
      "/home/ynogin/out/DatasetExported/ScanSets.Lambda_NEB_MTaqI_Polylysine.0/segmented_images/20220315T234140Z_0c0119a5-5a2b-45c3-8346-3c044703f3c6.pickle\n"
     ]
    }
   ],
   "source": [
    "files = list(Path(dataset_dir).glob('segmented_images/*.pickle'))\n",
    "print(len(files))\n",
    "print(*files[:1])"
   ],
   "metadata": {
    "collapsed": false,
    "pycharm": {
     "name": "#%%\n"
    }
   }
  },
  {
   "cell_type": "code",
   "execution_count": 91,
   "metadata": {
    "pycharm": {
     "name": "#%%\n"
    }
   },
   "outputs": [
    {
     "name": "stdout",
     "output_type": "stream",
     "text": [
      "/home/ynogin/data/images/2021-05-18/timelapse01_00047.nd2\n",
      "5\n"
     ]
    }
   ],
   "source": [
    "file = files[0]\n",
    "segmented_image: SegmentedImageExported = pickle.loads(file.read_bytes())\n",
    "\n",
    "print(segmented_image.image_metadata.file)\n",
    "print(len(segmented_image.image_segments))"
   ]
  },
  {
   "cell_type": "code",
   "execution_count": 92,
   "metadata": {
    "pycharm": {
     "name": "#%%\n"
    }
   },
   "outputs": [
    {
     "name": "stdout",
     "output_type": "stream",
     "text": [
      "(2, 11, 67)\n"
     ]
    }
   ],
   "source": [
    "image_segment = segmented_image.image_segments[1]\n",
    "print(image_segment.profile_coords_map.shape)"
   ]
  },
  {
   "cell_type": "code",
   "execution_count": 100,
   "metadata": {
    "pycharm": {
     "name": "#%%\n"
    }
   },
   "outputs": [
    {
     "data": {
      "image/png": "[encoded data removed]",
      "text/plain": [
       "<Figure size 432x288 with 1 Axes>"
      ]
     },
     "metadata": {
      "needs_background": "light"
     },
     "output_type": "display_data"
    }
   ],
   "source": [
    "from ipywidgets import interact, IntSlider\n",
    "\n",
    "profile_image_seq = image_segment.profile_image_seq\n",
    "\n",
    "def plot_profile(frame):\n",
    "    pyplot.imshow(profile_image_seq[frame])\n",
    "\n",
    "plot_profile(0)"
   ]
  },
  {
   "cell_type": "code",
   "execution_count": 101,
   "metadata": {
    "pycharm": {
     "name": "#%%\n"
    }
   },
   "outputs": [
    {
     "data": {
      "application/vnd.jupyter.widget-view+json": {
       "model_id": "52ae162e7c274631988248362691db43",
       "version_major": 2,
       "version_minor": 0
      },
      "text/plain": [
       "interactive(children=(IntSlider(value=0, description='frame', max=19), Output()), _dom_classes=('widget-intera…"
      ]
     },
     "metadata": {},
     "output_type": "display_data"
    },
    {
     "data": {
      "text/plain": [
       "<function __main__.plot_profile(frame)>"
      ]
     },
     "execution_count": 101,
     "metadata": {},
     "output_type": "execute_result"
    }
   ],
   "source": [
    "interact(frame=IntSlider(min=0, max=len(profile_image_seq)-1))(plot_profile)"
   ]
  },
  {
   "cell_type": "code",
   "execution_count": 94,
   "metadata": {
    "pycharm": {
     "name": "#%%\n"
    }
   },
   "outputs": [
    {
     "data": {
      "text/plain": [
       "<matplotlib.image.AxesImage at 0x7f1f54ebc3a0>"
      ]
     },
     "execution_count": 94,
     "metadata": {},
     "output_type": "execute_result"
    },
    {
     "data": {
      "image/png": "[encoded data removed]",
      "text/plain": [
       "<Figure size 432x288 with 1 Axes>"
      ]
     },
     "metadata": {
      "needs_background": "light"
     },
     "output_type": "display_data"
    },
    {
     "data": {
      "image/png": "[encoded data removed]",
      "text/plain": [
       "<Figure size 432x288 with 1 Axes>"
      ]
     },
     "metadata": {
      "needs_background": "light"
     },
     "output_type": "display_data"
    }
   ],
   "source": [
    "pyplot.figure()\n",
    "pyplot.imshow(image_segment.profile_coords_map[0])\n",
    "pyplot.figure()\n",
    "pyplot.imshow(image_segment.profile_coords_map[1])"
   ]
  },
  {
   "cell_type": "code",
   "execution_count": 95,
   "metadata": {
    "pycharm": {
     "name": "#%%\n"
    }
   },
   "outputs": [
    {
     "data": {
      "text/plain": [
       "[<matplotlib.lines.Line2D at 0x7f1f54f88a30>]"
      ]
     },
     "execution_count": 95,
     "metadata": {},
     "output_type": "execute_result"
    },
    {
     "data": {
      "image/png": "[encoded data removed]",
      "text/plain": [
       "<Figure size 432x288 with 1 Axes>"
      ]
     },
     "metadata": {
      "needs_background": "light"
     },
     "output_type": "display_data"
    }
   ],
   "source": [
    "pyplot.plot(*image_segment.profile_curve_coords.T[::-1], '.')"
   ]
  }
 ],
 "metadata": {
  "kernelspec": {
   "display_name": "Python 3 (ipykernel)",
   "language": "python",
   "name": "python3"
  },
  "language_info": {
   "codemirror_mode": {
    "name": "ipython",
    "version": 3
   },
   "file_extension": ".py",
   "mimetype": "text/x-python",
   "name": "python",
   "nbconvert_exporter": "python",
   "pygments_lexer": "ipython3",
   "version": "3.9.10"
  }
 },
 "nbformat": 4,
 "nbformat_minor": 1
}