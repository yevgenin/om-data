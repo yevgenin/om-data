{
 "cells": [
  {
   "cell_type": "code",
   "execution_count": 3,
   "metadata": {
    "collapsed": true,
    "pycharm": {
     "name": "#%%\n"
    }
   },
   "outputs": [],
   "source": [
    "from pathlib import Path\n",
    "import pickle\n",
    "from om_data.exported import *\n",
    "from matplotlib import pyplot\n"
   ]
  },
  {
   "cell_type": "code",
   "execution_count": 6,
   "metadata": {
    "pycharm": {
     "name": "#%%\n"
    }
   },
   "outputs": [],
   "source": [
    "dataset_dir = '/home/ynogin/out/exports/TCGA/20220426T125332Z/ScanSets.Lambda_NEB_MTaqI.0'"
   ]
  },
  {
   "cell_type": "code",
   "execution_count": 5,
   "outputs": [
    {
     "ename": "FileNotFoundError",
     "evalue": "[Errno 2] No such file or directory: '/home/ynogin/out/exports/TCGA/20220426T125332Z/ScanSets.Lambda_NEB_MTaqI.0/genome.pickle'",
     "output_type": "error",
     "traceback": [
      "\u001B[0;31m---------------------------------------------------------------------------\u001B[0m",
      "\u001B[0;31mFileNotFoundError\u001B[0m                         Traceback (most recent call last)",
      "\u001B[0;32m/tmp/ipykernel_3545247/3842517842.py\u001B[0m in \u001B[0;36m<module>\u001B[0;34m\u001B[0m\n\u001B[0;32m----> 1\u001B[0;31m \u001B[0mgenome_data\u001B[0m\u001B[0;34m:\u001B[0m \u001B[0mGenomeSeqLabeledExported\u001B[0m \u001B[0;34m=\u001B[0m \u001B[0mpickle\u001B[0m\u001B[0;34m.\u001B[0m\u001B[0mloads\u001B[0m\u001B[0;34m(\u001B[0m\u001B[0mPath\u001B[0m\u001B[0;34m(\u001B[0m\u001B[0mdataset_dir\u001B[0m\u001B[0;34m,\u001B[0m \u001B[0;34m'genome.pickle'\u001B[0m\u001B[0;34m)\u001B[0m\u001B[0;34m.\u001B[0m\u001B[0mread_bytes\u001B[0m\u001B[0;34m(\u001B[0m\u001B[0;34m)\u001B[0m\u001B[0;34m)\u001B[0m\u001B[0;34m\u001B[0m\u001B[0;34m\u001B[0m\u001B[0m\n\u001B[0m\u001B[1;32m      2\u001B[0m print(\n\u001B[1;32m      3\u001B[0m     \u001B[0;34m'organism: '\u001B[0m\u001B[0;34m,\u001B[0m \u001B[0mgenome_data\u001B[0m\u001B[0;34m.\u001B[0m\u001B[0morganism\u001B[0m\u001B[0;34m.\u001B[0m\u001B[0mname\u001B[0m\u001B[0;34m,\u001B[0m \u001B[0mgenome_data\u001B[0m\u001B[0;34m.\u001B[0m\u001B[0morganism\u001B[0m\u001B[0;34m.\u001B[0m\u001B[0mdescription\u001B[0m\u001B[0;34m,\u001B[0m \u001B[0;34m'\\n'\u001B[0m\u001B[0;34m\u001B[0m\u001B[0;34m\u001B[0m\u001B[0m\n\u001B[1;32m      4\u001B[0m     \u001B[0;34m'seq: '\u001B[0m\u001B[0;34m,\u001B[0m \u001B[0mgenome_data\u001B[0m\u001B[0;34m.\u001B[0m\u001B[0mgenome_seq_bytes\u001B[0m\u001B[0;34m[\u001B[0m\u001B[0;34m:\u001B[0m\u001B[0;36m32\u001B[0m\u001B[0;34m]\u001B[0m\u001B[0;34m,\u001B[0m \u001B[0;34m'...'\u001B[0m\u001B[0;34m,\u001B[0m \u001B[0;34m'\\n'\u001B[0m\u001B[0;34m\u001B[0m\u001B[0;34m\u001B[0m\u001B[0m\n\u001B[1;32m      5\u001B[0m     \u001B[0;34m'patterns: '\u001B[0m\u001B[0;34m,\u001B[0m \u001B[0mgenome_data\u001B[0m\u001B[0;34m.\u001B[0m\u001B[0mgenome_seq_labeled\u001B[0m\u001B[0;34m.\u001B[0m\u001B[0mpatterns\u001B[0m\u001B[0;34m,\u001B[0m \u001B[0;34m'\\n'\u001B[0m\u001B[0;34m\u001B[0m\u001B[0;34m\u001B[0m\u001B[0m\n",
      "\u001B[0;32m~/miniconda3/envs/om/lib/python3.9/pathlib.py\u001B[0m in \u001B[0;36mread_bytes\u001B[0;34m(self)\u001B[0m\n\u001B[1;32m   1257\u001B[0m         \u001B[0mOpen\u001B[0m \u001B[0mthe\u001B[0m \u001B[0mfile\u001B[0m \u001B[0;32min\u001B[0m \u001B[0mbytes\u001B[0m \u001B[0mmode\u001B[0m\u001B[0;34m,\u001B[0m \u001B[0mread\u001B[0m \u001B[0mit\u001B[0m\u001B[0;34m,\u001B[0m \u001B[0;32mand\u001B[0m \u001B[0mclose\u001B[0m \u001B[0mthe\u001B[0m \u001B[0mfile\u001B[0m\u001B[0;34m.\u001B[0m\u001B[0;34m\u001B[0m\u001B[0;34m\u001B[0m\u001B[0m\n\u001B[1;32m   1258\u001B[0m         \"\"\"\n\u001B[0;32m-> 1259\u001B[0;31m         \u001B[0;32mwith\u001B[0m \u001B[0mself\u001B[0m\u001B[0;34m.\u001B[0m\u001B[0mopen\u001B[0m\u001B[0;34m(\u001B[0m\u001B[0mmode\u001B[0m\u001B[0;34m=\u001B[0m\u001B[0;34m'rb'\u001B[0m\u001B[0;34m)\u001B[0m \u001B[0;32mas\u001B[0m \u001B[0mf\u001B[0m\u001B[0;34m:\u001B[0m\u001B[0;34m\u001B[0m\u001B[0;34m\u001B[0m\u001B[0m\n\u001B[0m\u001B[1;32m   1260\u001B[0m             \u001B[0;32mreturn\u001B[0m \u001B[0mf\u001B[0m\u001B[0;34m.\u001B[0m\u001B[0mread\u001B[0m\u001B[0;34m(\u001B[0m\u001B[0;34m)\u001B[0m\u001B[0;34m\u001B[0m\u001B[0;34m\u001B[0m\u001B[0m\n\u001B[1;32m   1261\u001B[0m \u001B[0;34m\u001B[0m\u001B[0m\n",
      "\u001B[0;32m~/miniconda3/envs/om/lib/python3.9/pathlib.py\u001B[0m in \u001B[0;36mopen\u001B[0;34m(self, mode, buffering, encoding, errors, newline)\u001B[0m\n\u001B[1;32m   1250\u001B[0m         \u001B[0mthe\u001B[0m \u001B[0mbuilt\u001B[0m\u001B[0;34m-\u001B[0m\u001B[0;32min\u001B[0m \u001B[0mopen\u001B[0m\u001B[0;34m(\u001B[0m\u001B[0;34m)\u001B[0m \u001B[0mfunction\u001B[0m \u001B[0mdoes\u001B[0m\u001B[0;34m.\u001B[0m\u001B[0;34m\u001B[0m\u001B[0;34m\u001B[0m\u001B[0m\n\u001B[1;32m   1251\u001B[0m         \"\"\"\n\u001B[0;32m-> 1252\u001B[0;31m         return io.open(self, mode, buffering, encoding, errors, newline,\n\u001B[0m\u001B[1;32m   1253\u001B[0m                        opener=self._opener)\n\u001B[1;32m   1254\u001B[0m \u001B[0;34m\u001B[0m\u001B[0m\n",
      "\u001B[0;32m~/miniconda3/envs/om/lib/python3.9/pathlib.py\u001B[0m in \u001B[0;36m_opener\u001B[0;34m(self, name, flags, mode)\u001B[0m\n\u001B[1;32m   1118\u001B[0m     \u001B[0;32mdef\u001B[0m \u001B[0m_opener\u001B[0m\u001B[0;34m(\u001B[0m\u001B[0mself\u001B[0m\u001B[0;34m,\u001B[0m \u001B[0mname\u001B[0m\u001B[0;34m,\u001B[0m \u001B[0mflags\u001B[0m\u001B[0;34m,\u001B[0m \u001B[0mmode\u001B[0m\u001B[0;34m=\u001B[0m\u001B[0;36m0o666\u001B[0m\u001B[0;34m)\u001B[0m\u001B[0;34m:\u001B[0m\u001B[0;34m\u001B[0m\u001B[0;34m\u001B[0m\u001B[0m\n\u001B[1;32m   1119\u001B[0m         \u001B[0;31m# A stub for the opener argument to built-in open()\u001B[0m\u001B[0;34m\u001B[0m\u001B[0;34m\u001B[0m\u001B[0m\n\u001B[0;32m-> 1120\u001B[0;31m         \u001B[0;32mreturn\u001B[0m \u001B[0mself\u001B[0m\u001B[0;34m.\u001B[0m\u001B[0m_accessor\u001B[0m\u001B[0;34m.\u001B[0m\u001B[0mopen\u001B[0m\u001B[0;34m(\u001B[0m\u001B[0mself\u001B[0m\u001B[0;34m,\u001B[0m \u001B[0mflags\u001B[0m\u001B[0;34m,\u001B[0m \u001B[0mmode\u001B[0m\u001B[0;34m)\u001B[0m\u001B[0;34m\u001B[0m\u001B[0;34m\u001B[0m\u001B[0m\n\u001B[0m\u001B[1;32m   1121\u001B[0m \u001B[0;34m\u001B[0m\u001B[0m\n\u001B[1;32m   1122\u001B[0m     \u001B[0;32mdef\u001B[0m \u001B[0m_raw_open\u001B[0m\u001B[0;34m(\u001B[0m\u001B[0mself\u001B[0m\u001B[0;34m,\u001B[0m \u001B[0mflags\u001B[0m\u001B[0;34m,\u001B[0m \u001B[0mmode\u001B[0m\u001B[0;34m=\u001B[0m\u001B[0;36m0o777\u001B[0m\u001B[0;34m)\u001B[0m\u001B[0;34m:\u001B[0m\u001B[0;34m\u001B[0m\u001B[0;34m\u001B[0m\u001B[0m\n",
      "\u001B[0;31mFileNotFoundError\u001B[0m: [Errno 2] No such file or directory: '/home/ynogin/out/exports/TCGA/20220426T125332Z/ScanSets.Lambda_NEB_MTaqI.0/genome.pickle'"
     ]
    }
   ],
   "source": [
    "genome_data: GenomeSeqLabeledExported = pickle.loads(Path(dataset_dir, 'genome.pickle').read_bytes())\n",
    "print(\n",
    "    'organism: ', genome_data.organism.name, genome_data.organism.description, '\\n'\n",
    "    'seq: ', genome_data.genome_seq_bytes[:32], '...', '\\n'\n",
    "    'patterns: ', genome_data.genome_seq_labeled.patterns, '\\n'\n",
    "    'num labeled: ', genome_data.labeled_mask.sum(), '\\n',\n",
    ")"
   ],
   "metadata": {
    "collapsed": false,
    "pycharm": {
     "name": "#%%\n"
    }
   }
  },
  {
   "cell_type": "code",
   "execution_count": 7,
   "outputs": [
    {
     "name": "stdout",
     "output_type": "stream",
     "text": [
      "719\n",
      "/home/ynogin/out/exports/TCGA/20220426T125332Z/ScanSets.Lambda_NEB_MTaqI.0/segmented_images/20220426T125647Z_546f180d-ca15-4ad5-9e8a-3b774720a341.pickle\n"
     ]
    }
   ],
   "source": [
    "files = list(Path(dataset_dir).glob('segmented_images/*.pickle'))\n",
    "print(len(files))\n",
    "print(*files[:1])"
   ],
   "metadata": {
    "collapsed": false,
    "pycharm": {
     "name": "#%%\n"
    }
   }
  },
  {
   "cell_type": "code",
   "execution_count": null,
   "outputs": [],
   "source": [
    "file = files[0]\n",
    "segmented_image: SegmentedImageExported = pickle.loads(file.read_bytes())\n",
    "\n",
    "print(segmented_image.image_metadata.file)\n",
    "print(len(segmented_image.image_segments))"
   ],
   "metadata": {
    "collapsed": false,
    "pycharm": {
     "name": "#%%\n"
    }
   }
  },
  {
   "cell_type": "code",
   "execution_count": 33,
   "metadata": {
    "pycharm": {
     "name": "#%%\n"
    }
   },
   "outputs": [
    {
     "name": "stdout",
     "output_type": "stream",
     "text": [
      "(47, 11, 56)\n",
      "(2, 11, 56)\n"
     ]
    }
   ],
   "source": [
    "image_segment = segmented_image.image_segments[-1]\n",
    "print(image_segment.profile_image_seq.shape)\n",
    "print(image_segment.profile_coords_map.shape)"
   ]
  },
  {
   "cell_type": "code",
   "execution_count": 34,
   "metadata": {
    "pycharm": {
     "name": "#%%\n"
    }
   },
   "outputs": [
    {
     "data": {
      "text/plain": "<Figure size 432x288 with 1 Axes>",
      "image/png": "[encoded data removed]"
     },
     "metadata": {
      "needs_background": "light"
     },
     "output_type": "display_data"
    }
   ],
   "source": [
    "from ipywidgets import interact, IntSlider\n",
    "\n",
    "profile_image_seq = image_segment.profile_image_seq\n",
    "\n",
    "def plot_profile(frame):\n",
    "    pyplot.imshow(profile_image_seq[frame])\n",
    "\n",
    "plot_profile(0)"
   ]
  },
  {
   "cell_type": "code",
   "execution_count": 26,
   "metadata": {
    "pycharm": {
     "name": "#%%\n"
    }
   },
   "outputs": [
    {
     "data": {
      "text/plain": "interactive(children=(IntSlider(value=0, description='frame', max=46), Output()), _dom_classes=('widget-intera…",
      "application/vnd.jupyter.widget-view+json": {
       "version_major": 2,
       "version_minor": 0,
       "model_id": "f1951e123738432c8328cf97d5aa8b0f"
      }
     },
     "metadata": {},
     "output_type": "display_data"
    },
    {
     "data": {
      "text/plain": "<function __main__.plot_profile(frame)>"
     },
     "execution_count": 26,
     "metadata": {},
     "output_type": "execute_result"
    }
   ],
   "source": [
    "interact(frame=IntSlider(min=0, max=len(profile_image_seq)-1))(plot_profile)"
   ]
  },
  {
   "cell_type": "code",
   "execution_count": 94,
   "metadata": {
    "pycharm": {
     "name": "#%%\n"
    }
   },
   "outputs": [
    {
     "data": {
      "text/plain": [
       "<matplotlib.image.AxesImage at 0x7f1f54ebc3a0>"
      ]
     },
     "execution_count": 94,
     "metadata": {},
     "output_type": "execute_result"
    },
    {
     "data": {
      "image/png": "[encoded data removed]",
      "text/plain": [
       "<Figure size 432x288 with 1 Axes>"
      ]
     },
     "metadata": {
      "needs_background": "light"
     },
     "output_type": "display_data"
    },
    {
     "data": {
      "image/png": "[encoded data removed]",
      "text/plain": [
       "<Figure size 432x288 with 1 Axes>"
      ]
     },
     "metadata": {
      "needs_background": "light"
     },
     "output_type": "display_data"
    }
   ],
   "source": [
    "pyplot.figure()\n",
    "pyplot.imshow(image_segment.profile_coords_map[0])\n",
    "pyplot.figure()\n",
    "pyplot.imshow(image_segment.profile_coords_map[1])"
   ]
  },
  {
   "cell_type": "code",
   "execution_count": 95,
   "metadata": {
    "pycharm": {
     "name": "#%%\n"
    }
   },
   "outputs": [
    {
     "data": {
      "text/plain": [
       "[<matplotlib.lines.Line2D at 0x7f1f54f88a30>]"
      ]
     },
     "execution_count": 95,
     "metadata": {},
     "output_type": "execute_result"
    },
    {
     "data": {
      "image/png": "[encoded data removed]",
      "text/plain": [
       "<Figure size 432x288 with 1 Axes>"
      ]
     },
     "metadata": {
      "needs_background": "light"
     },
     "output_type": "display_data"
    }
   ],
   "source": [
    "pyplot.plot(*image_segment.profile_curve_coords.T[::-1], '.')"
   ]
  }
 ],
 "metadata": {
  "kernelspec": {
   "display_name": "Python 3 (ipykernel)",
   "language": "python",
   "name": "python3"
  },
  "language_info": {
   "codemirror_mode": {
    "name": "ipython",
    "version": 3
   },
   "file_extension": ".py",
   "mimetype": "text/x-python",
   "name": "python",
   "nbconvert_exporter": "python",
   "pygments_lexer": "ipython3",
   "version": "3.9.10"
  }
 },
 "nbformat": 4,
 "nbformat_minor": 1
}